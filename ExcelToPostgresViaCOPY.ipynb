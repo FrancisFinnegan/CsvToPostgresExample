{
 "cells": [
  {
   "cell_type": "markdown",
   "metadata": {},
   "source": [
    "## Begin by importing the proper Library:\n",
    "\n",
    "    The psycopg2 library enables a user to create a connection to a localhost PostgreSQL instance."
   ]
  },
  {
   "cell_type": "code",
   "execution_count": null,
   "metadata": {},
   "outputs": [],
   "source": [
    "import psycopg2"
   ]
  },
  {
   "cell_type": "markdown",
   "metadata": {},
   "source": [
    "The first thing to establish is a connection to the database. This is performed with the .connect method against the library just imported. The arguments we need to pass to the connection method is the name of the user, password, host address, port, and the name of the database, which is \"testdb\". I store all of this information in the \"conn\" variable. As a connection object, \"conn\" has a method called cursor. This cursor is where SQL is written to run against the local database. I store this object in \"cur\".\n",
    "\n",
    "The information I am loading into the database is the collegiate cycling directory. The link is provided below for reference. In this example, the contents of that website are saved in a csv."
   ]
  },
  {
   "cell_type": "code",
   "execution_count": null,
   "metadata": {},
   "outputs": [],
   "source": [
    "conn = psycopg2.connect(user = \"postgres\",\n",
    "                          password = \"postgrespass\",\n",
    "                          host = \"127.0.0.1\",\n",
    "                          port = \"5432\",\n",
    "                          database = \"testdb\")\n",
    "cur = conn.cursor()"
   ]
  },
  {
   "cell_type": "markdown",
   "metadata": {},
   "source": [
    "https://www.nationalmtb.org/collegiate-cycling-directory/ :: Accessed on June 2020."
   ]
  },
  {
   "cell_type": "markdown",
   "metadata": {},
   "source": [
    "With the connection live, I now need to ensure the table I want to make doesn't already exist. In my case, the table I want to make will be in the database because I have run this code many times. If I try to make an existing table, I will be met with an error message. In order to work around that, I create a try/except to drop any pre-existing table. The .execute syntax is how all the SQL will be written to run against the database.\n",
    "\n",
    "Now I create a table in my \"testdb\" database. This table is called \"cycleInfo\". I run the .commit method against the connection in order to make sure that the changes just made - i.e. the table that has just been created - are saved to the database. The table contains two text columns: \"conference\" and \"college\"."
   ]
  },
  {
   "cell_type": "code",
   "execution_count": null,
   "metadata": {},
   "outputs": [],
   "source": [
    "try:\n",
    "    cur.execute('DROP TABLE cycleInfo')\n",
    "except:\n",
    "    pass\n",
    "\n",
    "cur.execute('CREATE TABLE cycleInfo (conference varchar(10) NOT NULL,\\\n",
    "                                    college varchar(100) NOT NULL);')\n",
    "conn.commit()"
   ]
  },
  {
   "cell_type": "markdown",
   "metadata": {},
   "source": [
    "To get the contents of the csv into the table, I perform the COPY FROM command in SQL. The syntax is this: COPY (table name) FROM (location of file) (type of file). I perform this action against my cursor object using the .execute method and save those changes with the .commit.\n",
    "\n",
    "Following, I once again use .execute in order to select all of the data from the cycleInfo table. To collect all of the output of an execute method, I run the .fetchall method against the cursor immediately after the .execute method has run. What is returned from .fetchall is stored in \"record\". \"record\", as shown below, is a List."
   ]
  },
  {
   "cell_type": "code",
   "execution_count": null,
   "metadata": {},
   "outputs": [],
   "source": [
    "cur.execute(\"COPY cycleInfo FROM 'C:\\\\Users\\\\Public\\\\cycle.csv' CSV\")\n",
    "conn.commit()\n",
    "\n",
    "cur.execute(\"SELECT * FROM cycleInfo\")\n",
    "record = cur.fetchall()\n",
    "type(record)"
   ]
  },
  {
   "cell_type": "markdown",
   "metadata": {},
   "source": [
    "To see what is my newly created List, I iterate through the object and output the contents of what has been copied from the database. Each \"i\" in \"record\" represents a row in a database. Thus, each \"i\" has two pieces of information: the conference and the college."
   ]
  },
  {
   "cell_type": "code",
   "execution_count": null,
   "metadata": {},
   "outputs": [],
   "source": [
    "for i in record:\n",
    "    print(i[0] + '\\t' + i[1])"
   ]
  },
  {
   "cell_type": "markdown",
   "metadata": {},
   "source": [
    "I finish here by performing some standard SQL against the database. I am able to perform the query in jupyter notebook with the .execute method as if I was using PGAdmin."
   ]
  },
  {
   "cell_type": "code",
   "execution_count": null,
   "metadata": {
    "scrolled": true
   },
   "outputs": [],
   "source": [
    "cur.execute('SELECT COUNT(conference), conference \\\n",
    "            FROM cycleInfo \\\n",
    "            WHERE conference LIKE \\'ACCC\\' \\\n",
    "            GROUP BY conference \\\n",
    "            ORDER BY COUNT(conference) DESC')\n",
    "c = cur.fetchall()\n",
    "\n",
    "for i in c:\n",
    "    print(i)"
   ]
  },
  {
   "cell_type": "markdown",
   "metadata": {},
   "source": [
    "Before closing out of the jupyter notebook, I run the following .close methods on the cursor and connection objects to ensure the connection is broken. Not doing so opens me up to memory leakage. "
   ]
  },
  {
   "cell_type": "code",
   "execution_count": null,
   "metadata": {},
   "outputs": [],
   "source": [
    "cur.close()\n",
    "conn.close()"
   ]
  }
 ],
 "metadata": {
  "kernelspec": {
   "display_name": "Python 3",
   "language": "python",
   "name": "python3"
  },
  "language_info": {
   "codemirror_mode": {
    "name": "ipython",
    "version": 3
   },
   "file_extension": ".py",
   "mimetype": "text/x-python",
   "name": "python",
   "nbconvert_exporter": "python",
   "pygments_lexer": "ipython3",
   "version": "3.7.1"
  }
 },
 "nbformat": 4,
 "nbformat_minor": 2
}
