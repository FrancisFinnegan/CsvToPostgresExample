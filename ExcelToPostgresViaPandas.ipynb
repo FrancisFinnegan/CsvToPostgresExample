{
 "cells": [
  {
   "cell_type": "code",
   "execution_count": 1,
   "metadata": {},
   "outputs": [],
   "source": [
    "import psycopg2\n",
    "import pandas as pd"
   ]
  },
  {
   "cell_type": "code",
   "execution_count": 9,
   "metadata": {},
   "outputs": [],
   "source": [
    "conn = psycopg2.connect(user = \"postgres\",\n",
    "                          password = \"postgrespass\",\n",
    "                          host = \"127.0.0.1\",\n",
    "                          port = \"5432\",\n",
    "                          database = \"testdb\")\n",
    "\n",
    "cur = conn.cursor()\n",
    "\n",
    "df = pd.read_excel('cycle.xlsx', header = None)\n",
    "df.rename(columns = { 0 : 'conference', 1 : 'college'}, inplace = True)"
   ]
  },
  {
   "cell_type": "markdown",
   "metadata": {},
   "source": [
    "https://www.nationalmtb.org/collegiate-cycling-directory/ :: Accessed on June 2020."
   ]
  },
  {
   "cell_type": "code",
   "execution_count": 3,
   "metadata": {},
   "outputs": [],
   "source": [
    "try:\n",
    "    cur.execute('DROP TABLE cycleInfo')\n",
    "except:\n",
    "    pass\n",
    "\n",
    "cur.execute('CREATE TABLE cycleInfo (conference varchar(10) NOT NULL,\\\n",
    "                                    college varchar(100) NOT NULL);')\n",
    "conn.commit()"
   ]
  },
  {
   "cell_type": "code",
   "execution_count": 4,
   "metadata": {},
   "outputs": [],
   "source": [
    "for item, s in df.iterrows():\n",
    "    cur.execute(f\"INSERT INTO cycleInfo (conference, college) \\\n",
    "                VALUES ('{s.conference}', '{s.college}')\")\n",
    "conn.commit()\n",
    "\n",
    "cur.execute(\"SELECT * FROM cycleInfo\")\n",
    "record = cur.fetchall()\n",
    "\n",
    "for i in record:\n",
    "    print(i[0] + '\\t' + i[1])"
   ]
  },
  {
   "cell_type": "code",
   "execution_count": 6,
   "metadata": {
    "scrolled": true
   },
   "outputs": [
    {
     "name": "stdout",
     "output_type": "stream",
     "text": [
      "(81, 'ECCC')\n",
      "(64, 'MWCCC')\n",
      "(35, 'ACCC')\n",
      "(34, 'SECCC')\n",
      "(30, 'WCCC')\n",
      "(22, 'NWCCC')\n",
      "(22, 'SCCCC')\n",
      "(20, 'NCCCC')\n",
      "(16, 'RMCCC')\n",
      "(6, 'IMCCC')\n",
      "(6, 'SWCCC')\n"
     ]
    }
   ],
   "source": [
    "cur.execute('SELECT COUNT(conference), conference \\\n",
    "            FROM cycleInfo \\\n",
    "            GROUP BY conference \\\n",
    "            ORDER BY COUNT(conference) DESC')\n",
    "c = cur.fetchall()\n",
    "\n",
    "for i in c:\n",
    "    print(i)"
   ]
  },
  {
   "cell_type": "code",
   "execution_count": 11,
   "metadata": {},
   "outputs": [],
   "source": [
    "cur.close()\n",
    "conn.close()"
   ]
  }
 ],
 "metadata": {
  "kernelspec": {
   "display_name": "Python 3",
   "language": "python",
   "name": "python3"
  },
  "language_info": {
   "codemirror_mode": {
    "name": "ipython",
    "version": 3
   },
   "file_extension": ".py",
   "mimetype": "text/x-python",
   "name": "python",
   "nbconvert_exporter": "python",
   "pygments_lexer": "ipython3",
   "version": "3.7.1"
  }
 },
 "nbformat": 4,
 "nbformat_minor": 2
}
